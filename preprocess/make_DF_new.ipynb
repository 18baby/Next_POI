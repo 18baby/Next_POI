{
 "cells": [
  {
   "cell_type": "code",
   "execution_count": 1,
   "id": "5e9da47c",
   "metadata": {},
   "outputs": [],
   "source": [
    "import pandas as pd\n",
    "from datetime import datetime, timedelta\n",
    "from my_preprocess_fn import add_holidays_nyc, add_holidays_tky, make_uppercat\n",
    "from file_reader import FileReader"
   ]
  },
  {
   "cell_type": "markdown",
   "id": "a96d2cbd",
   "metadata": {},
   "source": [
    "# 뉴욕 데이터 전처리"
   ]
  },
  {
   "cell_type": "code",
   "execution_count": 2,
   "id": "b9add2ab",
   "metadata": {},
   "outputs": [],
   "source": [
    "nyc_df = FileReader.read_dataset(file_name='dataset_TSMC2014_NYC.txt', dataset_name='nyc')\n",
    "\n",
    "nyc_df = FileReader.do_filter(nyc_df, poi_min_freq=10, user_min_freq=10)\n",
    "\n",
    "nyc_df = FileReader.split_train_test(nyc_df)\n",
    "\n",
    "nyc_df = add_holidays_nyc(nyc_df)\n",
    "\n",
    "nyc_df = make_uppercat(nyc_df, opt='NYC')"
   ]
  },
  {
   "cell_type": "code",
   "execution_count": 3,
   "id": "3ca5d35e",
   "metadata": {},
   "outputs": [],
   "source": [
    "# 데이터 분할\n",
    "nyc_train = nyc_df[nyc_df['SplitTag'] == 'train'] \n",
    "nyc_val = nyc_df[nyc_df['SplitTag'] == 'validation']\n",
    "nyc_test = nyc_df[nyc_df['SplitTag'] == 'test']\n",
    "\n",
    "# 저장\n",
    "nyc_train.to_csv('../data/nyc/raw/NYC_train.csv', index=False)\n",
    "nyc_val.to_csv('../data/nyc/raw/NYC_val.csv', index=False)\n",
    "nyc_test.to_csv('../data/nyc/raw/NYC_test.csv', index=False)"
   ]
  },
  {
   "cell_type": "code",
   "execution_count": 4,
   "id": "59932e83",
   "metadata": {},
   "outputs": [],
   "source": [
    "# 경로 생성\n",
    "nyc_df_traj = FileReader.generate_traj_id(nyc_df)\n",
    "nyc_df_traj.to_csv('../data/nyc/raw/NYC_df.csv', index=False)"
   ]
  },
  {
   "cell_type": "markdown",
   "id": "f8390f9d",
   "metadata": {},
   "source": [
    "# 도쿄 데이터 전처리"
   ]
  },
  {
   "cell_type": "code",
   "execution_count": 5,
   "id": "95cc8f69",
   "metadata": {},
   "outputs": [],
   "source": [
    "tky_df = FileReader.read_dataset(file_name='dataset_TSMC2014_TKY.txt', dataset_name='tky')\n",
    "\n",
    "tky_df = FileReader.do_filter(tky_df, poi_min_freq=10, user_min_freq=10)\n",
    "\n",
    "tky_df = FileReader.split_train_test(tky_df)\n",
    "\n",
    "tky_df = add_holidays_tky(tky_df)\n",
    "\n",
    "tky_df = make_uppercat(tky_df, opt='TKY')"
   ]
  },
  {
   "cell_type": "code",
   "execution_count": 6,
   "id": "f2151c69",
   "metadata": {},
   "outputs": [],
   "source": [
    "# 데이터 분할\n",
    "tky_train = tky_df[tky_df['SplitTag'] == 'train'] \n",
    "tky_val = tky_df[tky_df['SplitTag'] == 'validation']\n",
    "tky_test = tky_df[tky_df['SplitTag'] == 'test']\n",
    "\n",
    "# 저장\n",
    "tky_train.to_csv('../data/tky/raw/TKY_train.csv', index=False)\n",
    "tky_val.to_csv('../data/tky/raw/TKY_val.csv', index=False)\n",
    "tky_test.to_csv('../data/tky/raw/TKY_test.csv', index=False)"
   ]
  },
  {
   "cell_type": "code",
   "execution_count": 7,
   "id": "d3f648e4",
   "metadata": {},
   "outputs": [],
   "source": [
    "# 경로 생성\n",
    "tky_df_traj = FileReader.generate_traj_id(tky_df)\n",
    "tky_df_traj.to_csv('../data/tky/raw/TKY_df.csv', index=False)"
   ]
  },
  {
   "cell_type": "code",
   "execution_count": null,
   "id": "99b854fc",
   "metadata": {},
   "outputs": [],
   "source": []
  }
 ],
 "metadata": {
  "kernelspec": {
   "display_name": "nextpoi",
   "language": "python",
   "name": "python3"
  },
  "language_info": {
   "codemirror_mode": {
    "name": "ipython",
    "version": 3
   },
   "file_extension": ".py",
   "mimetype": "text/x-python",
   "name": "python",
   "nbconvert_exporter": "python",
   "pygments_lexer": "ipython3",
   "version": "3.10.18"
  }
 },
 "nbformat": 4,
 "nbformat_minor": 5
}
