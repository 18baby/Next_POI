{
 "cells": [
  {
   "cell_type": "code",
   "execution_count": 7,
   "id": "62bd0ff3",
   "metadata": {},
   "outputs": [],
   "source": [
    "import torch\n",
    "import pandas as pd\n",
    "from torch import nn\n",
    "from transformers import GPT2Tokenizer, GPT2Model, GPT2Config, Trainer, TrainingArguments\n",
    "from transformers import DataCollatorWithPadding\n",
    "from datasets import load_dataset\n",
    "from sklearn.preprocessing import LabelEncoder"
   ]
  },
  {
   "cell_type": "code",
   "execution_count": null,
   "id": "9117c4dd",
   "metadata": {},
   "outputs": [],
   "source": [
    "# 1. Check-in 임베딩 생성\n",
    "\n",
    "space_embedding = pd.read_csv(\"../data/nyc/graph/nyc_gat_space_embedding.csv\")\n",
    "poi_embedding = ()\n",
    "time_embedding = ()\n",
    "user_embedding = ()"
   ]
  },
  {
   "cell_type": "code",
   "execution_count": 9,
   "id": "90f7880b",
   "metadata": {},
   "outputs": [],
   "source": [
    "from transformers import GPT2Model, GPT2Config\n",
    "\n",
    "# PFA 방식 도입 \n",
    "class CustomGPT2(nn.Module):\n",
    "    def __init__(self, config, freeze_layers=6):\n",
    "        super().__init__()\n",
    "        self.gpt2 = GPT2Model(config)\n",
    "\n",
    "        # PFA: 하위 N개 레이어 freeze\n",
    "        for i, block in enumerate(self.gpt2.h):\n",
    "            if i < freeze_layers:\n",
    "                for param in block.parameters():\n",
    "                    param.requires_grad = False\n",
    "\n",
    "    def forward(self, embedded_inputs, attention_mask=None):\n",
    "        # embedded_inputs: [batch_size, seq_len, hidden_dim]\n",
    "        return self.gpt2(inputs_embeds=embedded_inputs, attention_mask=attention_mask)\n"
   ]
  }
 ],
 "metadata": {
  "kernelspec": {
   "display_name": "nextpoi",
   "language": "python",
   "name": "python3"
  },
  "language_info": {
   "codemirror_mode": {
    "name": "ipython",
    "version": 3
   },
   "file_extension": ".py",
   "mimetype": "text/x-python",
   "name": "python",
   "nbconvert_exporter": "python",
   "pygments_lexer": "ipython3",
   "version": "3.10.18"
  }
 },
 "nbformat": 4,
 "nbformat_minor": 5
}
